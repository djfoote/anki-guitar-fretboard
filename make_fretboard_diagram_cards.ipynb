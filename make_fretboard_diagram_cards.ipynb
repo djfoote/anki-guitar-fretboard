{
 "cells": [
  {
   "cell_type": "code",
   "execution_count": 2,
   "metadata": {},
   "outputs": [],
   "source": [
    "%reload_ext autoreload\n",
    "%autoreload 2"
   ]
  },
  {
   "cell_type": "code",
   "execution_count": 1,
   "metadata": {},
   "outputs": [],
   "source": [
    "import os\n",
    "\n",
    "from anki.storage import Collection\n",
    "from anki.notes import Note\n",
    "\n",
    "from fretboard import FretBoard\n",
    "from fretboard_utils import draw"
   ]
  },
  {
   "cell_type": "code",
   "execution_count": 4,
   "metadata": {},
   "outputs": [
    {
     "data": {
      "image/png": "[encoded data removed]",
      "text/plain": [
       "<IPython.core.display.Image object>"
      ]
     },
     "metadata": {},
     "output_type": "display_data"
    }
   ],
   "source": [
    "fretboard = FretBoard()\n",
    "for string in range(1, 7):\n",
    "    fretboard.add_note(string, 4)\n",
    "\n",
    "draw(fretboard)"
   ]
  },
  {
   "cell_type": "code",
   "execution_count": 8,
   "metadata": {},
   "outputs": [],
   "source": [
    "DECK_NAME = \"Guitar\"\n",
    "ANKI_USER_NAME = \"User 1\"\n",
    "COLLECTION_PATH = os.path.expanduser(f\"~/Library/Application Support/Anki2/{ANKI_USER_NAME}/collection.anki2\")\n",
    "ANKI_MEDIA_PATH = os.path.expanduser(f\"~/Library/Application Support/Anki2/{ANKI_USER_NAME}/collection.media\")\n",
    "\n",
    "\n",
    "# This has some interaction with the Anki app I haven't figured out yet. What I know is that it works when the Anki app\n",
    "# is closed. Seems like only one source can open the collection at a time or something.\n",
    "# TODO: Wrap this in a context manager that closes the collection when it's done.\n",
    "# TODO: Make this work with the Anki app open, or make it impossible to run with the Anki app open.\n",
    "\n",
    "# col = Collection(COLLECTION_PATH)\n",
    "# model = col.models.by_name(\"Basic\")\n",
    "# deck_id = col.decks.id(DECK_NAME)\n",
    "# col.close()"
   ]
  },
  {
   "cell_type": "code",
   "execution_count": 31,
   "metadata": {},
   "outputs": [],
   "source": [
    "# TODO: This would probably be a bit cleaner as a class.\n",
    "def make_anki_card_generator(col, model, deck_id, question_text_fn, img_fname_fn, question_fretboard_fn, answer_fn):\n",
    "    def anki_card_generator(*args, **kwargs):\n",
    "        question_text = question_text_fn(*args, **kwargs)\n",
    "        img_fname = img_fname_fn(*args, **kwargs)\n",
    "        img_fpath = os.path.join(ANKI_MEDIA_PATH, img_fname)\n",
    "        question = question_text + f\"\\n\\n<img src='{img_fname}'>\"\n",
    "        question_fretboard = question_fretboard_fn(*args, **kwargs)\n",
    "        question_fretboard.export(to=img_fpath, format=\"png\")\n",
    "        answer = answer_fn(*args, **kwargs)\n",
    "\n",
    "        note = Note(col, model)\n",
    "        note.fields = [question, answer]\n",
    "        col.add_note(note, deck_id=deck_id)\n",
    "\n",
    "    return anki_card_generator\n",
    "\n",
    "# `inputs` really should be a list of tuples but I'm not gonna bother for this first example.\n",
    "def generate_anki_cards(question_text_fn, img_fname_fn, question_fretboard_fn, answer_fn, inputs):\n",
    "    col = Collection(COLLECTION_PATH)\n",
    "    model = col.models.by_name(\"Basic\")\n",
    "    deck_id = col.decks.id(DECK_NAME)\n",
    "\n",
    "    anki_card_generator = make_anki_card_generator(\n",
    "        col, model, deck_id, question_text_fn, img_fname_fn, question_fretboard_fn, answer_fn)\n",
    "\n",
    "    for input in inputs:\n",
    "        anki_card_generator(input)\n",
    "\n",
    "    col.close()"
   ]
  },
  {
   "cell_type": "code",
   "execution_count": 28,
   "metadata": {},
   "outputs": [],
   "source": [
    "label_notes_ascending = lambda _: \"Label these notes in ascending order.\"\n",
    "barre_img_fname = lambda fret: f\"barre_{fret}.png\"\n",
    "def barre_question_fretboard(fret):\n",
    "    fretboard = FretBoard()\n",
    "    for string in range(1, 7):\n",
    "        fretboard.add_note(string, fret)\n",
    "    return fretboard\n",
    "def barre_answer(fret, descending=False):\n",
    "    chromatic = [\"C\", \"C#\", \"D\", \"D#\", \"E\", \"F\", \"F#\", \"G\", \"G#\", \"A\", \"A#\", \"B\"]\n",
    "    lowest = fret + 4\n",
    "    notes = [lowest, lowest + 5, lowest + 10, lowest + 15, lowest + 19, lowest + 24]\n",
    "    if descending:\n",
    "        notes = notes[::-1]\n",
    "    return \", \".join([chromatic[n % 12] for n in notes])"
   ]
  },
  {
   "cell_type": "code",
   "execution_count": 33,
   "metadata": {},
   "outputs": [],
   "source": [
    "generate_anki_cards(\n",
    "    label_notes_ascending, barre_img_fname, barre_question_fretboard, barre_answer, range(13))"
   ]
  }
 ],
 "metadata": {
  "kernelspec": {
   "display_name": "anki",
   "language": "python",
   "name": "python3"
  },
  "language_info": {
   "codemirror_mode": {
    "name": "ipython",
    "version": 3
   },
   "file_extension": ".py",
   "mimetype": "text/x-python",
   "name": "python",
   "nbconvert_exporter": "python",
   "pygments_lexer": "ipython3",
   "version": "3.9.16"
  },
  "orig_nbformat": 4
 },
 "nbformat": 4,
 "nbformat_minor": 2
}
