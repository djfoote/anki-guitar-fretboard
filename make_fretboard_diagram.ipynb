{
 "cells": [
  {
   "cell_type": "code",
   "execution_count": 1,
   "metadata": {},
   "outputs": [],
   "source": [
    "%reload_ext autoreload\n",
    "%autoreload 2"
   ]
  },
  {
   "cell_type": "code",
   "execution_count": 2,
   "metadata": {},
   "outputs": [],
   "source": [
    "from collections import defaultdict\n",
    "\n",
    "from fretboardgtr.elements.notes import FrettedNote, FrettedNoteConfig\n",
    "from fretboardgtr.elements.nut import Nut, NutConfig\n",
    "from fretboardgtr.elements.strings import String, StringConfig\n",
    "from fretboardgtr.exporters import PNGExporter, register_exporter\n",
    "from fretboardgtr.fretboard import FretBoard, FretBoardConfig\n",
    "from fretboardgtr.notes_creators import ScaleFromName, NotesContainer\n",
    "\n",
    "from IPython.display import Image, display"
   ]
  },
  {
   "cell_type": "code",
   "execution_count": 7,
   "metadata": {},
   "outputs": [
    {
     "data": {
      "text/plain": [
       "'/Users/davisfoote/projects/anki_scripts/anki-guitar-fretboard'"
      ]
     },
     "execution_count": 7,
     "metadata": {},
     "output_type": "execute_result"
    }
   ],
   "source": [
    "import os\n",
    "os.getcwd()"
   ]
  },
  {
   "cell_type": "code",
   "execution_count": 3,
   "metadata": {},
   "outputs": [],
   "source": [
    "class IPythonExporter(PNGExporter):\n",
    "    def export(self, to):\n",
    "        super().export(to)\n",
    "        display(Image(filename=to))\n",
    "\n",
    "\n",
    "register_exporter(IPythonExporter, \"DRAW\")\n",
    "def draw(fretboard, tmp_filepath=\"/tmp/fretboard.png\"):\n",
    "    fretboard.export(format=\"draw\", to=tmp_filepath)"
   ]
  },
  {
   "cell_type": "code",
   "execution_count": 5,
   "metadata": {},
   "outputs": [
    {
     "ename": "FileNotFoundError",
     "evalue": "[Errno 2] No such file or directory: 'photos/tmp/fretboard.png'",
     "output_type": "error",
     "traceback": [
      "\u001b[0;31m---------------------------------------------------------------------------\u001b[0m",
      "\u001b[0;31mFileNotFoundError\u001b[0m                         Traceback (most recent call last)",
      "Cell \u001b[0;32mIn[5], line 77\u001b[0m\n\u001b[1;32m     64\u001b[0m fretboard\u001b[39m.\u001b[39madd_element(FrettedNote(name\u001b[39m=\u001b[39m\u001b[39m\"\u001b[39m\u001b[39m\"\u001b[39m, position\u001b[39m=\u001b[39m(pos_x, pos_y), config\u001b[39m=\u001b[39mFrettedNoteConfig(\n\u001b[1;32m     65\u001b[0m     color\u001b[39m=\u001b[39m\u001b[39m\"\u001b[39m\u001b[39mrgb(183,64,50)\u001b[39m\u001b[39m\"\u001b[39m,\n\u001b[1;32m     66\u001b[0m     radius\u001b[39m=\u001b[39m\u001b[39m12\u001b[39m,\n\u001b[1;32m     67\u001b[0m     stroke_width\u001b[39m=\u001b[39m\u001b[39m1\u001b[39m,\n\u001b[1;32m     68\u001b[0m )))\n\u001b[1;32m     71\u001b[0m \u001b[39m# In getting this to look exactly how I wanted, I had to make a couple changes to the fretboardgtr library:\u001b[39;00m\n\u001b[1;32m     72\u001b[0m \u001b[39m# TODO: Clean these changes up and fork the library. Consider submitting a PR.\u001b[39;00m\n\u001b[1;32m     73\u001b[0m \u001b[39m# 1. Add `stroke` and `stroke_width` to the svgwrite.shapes.Rect constructor in fretboardgtr/elements/background.py\u001b[39;00m\n\u001b[1;32m     74\u001b[0m \u001b[39m#    to get a border around the fretboard.\u001b[39;00m\n\u001b[1;32m     75\u001b[0m \u001b[39m# 2. Nudge the double inlay dots inward in fretboardgtr/fretboards/fretboard.py to account for string padding.\u001b[39;00m\n\u001b[0;32m---> 77\u001b[0m draw(fretboard)\n",
      "Cell \u001b[0;32mIn[3], line 9\u001b[0m, in \u001b[0;36mdraw\u001b[0;34m(fretboard, tmp_filepath)\u001b[0m\n\u001b[1;32m      8\u001b[0m \u001b[39mdef\u001b[39;00m \u001b[39mdraw\u001b[39m(fretboard, tmp_filepath\u001b[39m=\u001b[39m\u001b[39m\"\u001b[39m\u001b[39m./photos/tmp/fretboard.png\u001b[39m\u001b[39m\"\u001b[39m):\n\u001b[0;32m----> 9\u001b[0m     fretboard\u001b[39m.\u001b[39;49mexport(\u001b[39mformat\u001b[39;49m\u001b[39m=\u001b[39;49m\u001b[39m\"\u001b[39;49m\u001b[39mdraw\u001b[39;49m\u001b[39m\"\u001b[39;49m, to\u001b[39m=\u001b[39;49mtmp_filepath)\n",
      "File \u001b[0;32m~/anaconda3/envs/anki/lib/python3.9/site-packages/fretboardgtr/fretboard.py:110\u001b[0m, in \u001b[0;36mFretBoard.export\u001b[0;34m(self, to, format)\u001b[0m\n\u001b[1;32m    105\u001b[0m     \u001b[39mraise\u001b[39;00m \u001b[39mNotImplementedError\u001b[39;00m(\n\u001b[1;32m    106\u001b[0m         \u001b[39mf\u001b[39m\u001b[39m\"\u001b[39m\u001b[39mSave to the \u001b[39m\u001b[39m{\u001b[39;00m\u001b[39mformat\u001b[39m\u001b[39m}\u001b[39;00m\u001b[39m format is unsupported.\u001b[39m\u001b[39m\"\u001b[39m\n\u001b[1;32m    107\u001b[0m         \u001b[39mf\u001b[39m\u001b[39m\"\u001b[39m\u001b[39m Available formats are \u001b[39m\u001b[39m{\u001b[39;00mavailables\u001b[39m}\u001b[39;00m\u001b[39m\"\u001b[39m\n\u001b[1;32m    108\u001b[0m     )\n\u001b[1;32m    109\u001b[0m drawing \u001b[39m=\u001b[39m FretBoardToSVGConverter(\u001b[39mself\u001b[39m\u001b[39m.\u001b[39m_fretboard)\u001b[39m.\u001b[39mconvert()\n\u001b[0;32m--> 110\u001b[0m EXPORTERS[\u001b[39mformat\u001b[39;49m\u001b[39m.\u001b[39;49mupper()](drawing)\u001b[39m.\u001b[39;49mexport(to\u001b[39m=\u001b[39;49mto)\n",
      "Cell \u001b[0;32mIn[3], line 3\u001b[0m, in \u001b[0;36mIPythonExporter.export\u001b[0;34m(self, to)\u001b[0m\n\u001b[1;32m      2\u001b[0m \u001b[39mdef\u001b[39;00m \u001b[39mexport\u001b[39m(\u001b[39mself\u001b[39m, to):\n\u001b[0;32m----> 3\u001b[0m     \u001b[39msuper\u001b[39;49m()\u001b[39m.\u001b[39;49mexport(to)\n\u001b[1;32m      4\u001b[0m     display(Image(filename\u001b[39m=\u001b[39mto))\n",
      "File \u001b[0;32m~/anaconda3/envs/anki/lib/python3.9/site-packages/fretboardgtr/exporters.py:53\u001b[0m, in \u001b[0;36mPNGExporter.export\u001b[0;34m(self, to)\u001b[0m\n\u001b[1;32m     51\u001b[0m \u001b[39mself\u001b[39m\u001b[39m.\u001b[39mdrawing\u001b[39m.\u001b[39msaveas(\u001b[39mstr\u001b[39m(tmp_file))\n\u001b[1;32m     52\u001b[0m drawing \u001b[39m=\u001b[39m svg2rlg(\u001b[39mstr\u001b[39m(tmp_file))\n\u001b[0;32m---> 53\u001b[0m renderPM\u001b[39m.\u001b[39;49mdrawToFile(drawing, \u001b[39mstr\u001b[39;49m(to))\n",
      "File \u001b[0;32m~/anaconda3/envs/anki/lib/python3.9/site-packages/reportlab/graphics/renderPM.py:694\u001b[0m, in \u001b[0;36mdrawToFile\u001b[0;34m(d, fn, fmt, dpi, bg, configPIL, showBoundary, backend)\u001b[0m\n\u001b[1;32m    691\u001b[0m \u001b[39m\u001b[39m\u001b[39m'''create a pixmap and draw drawing, d to it then save as a file\u001b[39;00m\n\u001b[1;32m    692\u001b[0m \u001b[39mconfigPIL dict is passed to image save method'''\u001b[39;00m\n\u001b[1;32m    693\u001b[0m c \u001b[39m=\u001b[39m drawToPMCanvas(d, dpi\u001b[39m=\u001b[39mdpi, bg\u001b[39m=\u001b[39mbg, configPIL\u001b[39m=\u001b[39mconfigPIL, showBoundary\u001b[39m=\u001b[39mshowBoundary,backend\u001b[39m=\u001b[39mbackend)\n\u001b[0;32m--> 694\u001b[0m c\u001b[39m.\u001b[39;49msaveToFile(fn,fmt)\n",
      "File \u001b[0;32m~/anaconda3/envs/anki/lib/python3.9/site-packages/reportlab/graphics/renderPM.py:382\u001b[0m, in \u001b[0;36mPMCanvas.saveToFile\u001b[0;34m(self, fn, fmt)\u001b[0m\n\u001b[1;32m    380\u001b[0m \u001b[39mif\u001b[39;00m preSaveCB:\n\u001b[1;32m    381\u001b[0m     im \u001b[39m=\u001b[39m preSaveCB(im)\n\u001b[0;32m--> 382\u001b[0m im\u001b[39m.\u001b[39;49msave(fn,fmt,\u001b[39m*\u001b[39;49m\u001b[39m*\u001b[39;49mconfigPIL)\n\u001b[1;32m    383\u001b[0m \u001b[39mif\u001b[39;00m \u001b[39mnot\u001b[39;00m \u001b[39mhasattr\u001b[39m(fn,\u001b[39m'\u001b[39m\u001b[39mwrite\u001b[39m\u001b[39m'\u001b[39m) \u001b[39mand\u001b[39;00m os\u001b[39m.\u001b[39mname\u001b[39m==\u001b[39m\u001b[39m'\u001b[39m\u001b[39mmac\u001b[39m\u001b[39m'\u001b[39m:\n\u001b[1;32m    384\u001b[0m     \u001b[39mfrom\u001b[39;00m \u001b[39mreportlab\u001b[39;00m\u001b[39m.\u001b[39;00m\u001b[39mlib\u001b[39;00m\u001b[39m.\u001b[39;00m\u001b[39mutils\u001b[39;00m \u001b[39mimport\u001b[39;00m markfilename\n",
      "File \u001b[0;32m~/anaconda3/envs/anki/lib/python3.9/site-packages/PIL/Image.py:2429\u001b[0m, in \u001b[0;36mImage.save\u001b[0;34m(self, fp, format, **params)\u001b[0m\n\u001b[1;32m   2427\u001b[0m         fp \u001b[39m=\u001b[39m builtins\u001b[39m.\u001b[39mopen(filename, \u001b[39m\"\u001b[39m\u001b[39mr+b\u001b[39m\u001b[39m\"\u001b[39m)\n\u001b[1;32m   2428\u001b[0m     \u001b[39melse\u001b[39;00m:\n\u001b[0;32m-> 2429\u001b[0m         fp \u001b[39m=\u001b[39m builtins\u001b[39m.\u001b[39;49mopen(filename, \u001b[39m\"\u001b[39;49m\u001b[39mw+b\u001b[39;49m\u001b[39m\"\u001b[39;49m)\n\u001b[1;32m   2431\u001b[0m \u001b[39mtry\u001b[39;00m:\n\u001b[1;32m   2432\u001b[0m     save_handler(\u001b[39mself\u001b[39m, fp, filename)\n",
      "\u001b[0;31mFileNotFoundError\u001b[0m: [Errno 2] No such file or directory: 'photos/tmp/fretboard.png'"
     ]
    }
   ],
   "source": [
    "config = {\n",
    "    \"general\": {\n",
    "        \"first_fret\": 0,\n",
    "        \"last_fret\": 12,\n",
    "        \"show_tuning\": False,\n",
    "        \"x_start\": 30,\n",
    "        \"show_frets\": False,\n",
    "        \"fret_width\": 80,\n",
    "        \"fret_height\": 40,\n",
    "        \"x_end_offset\": -30,\n",
    "        \"y_end_offset\": -50,\n",
    "    },\n",
    "    \"neck_dots\": {\n",
    "        \"color\": \"rgb(229,227,222)\",\n",
    "        \"width_stroke\": 0,\n",
    "        \"radius\": 10,\n",
    "    },\n",
    "    \"nut\": {\"width\": 0},\n",
    "    \"background\": {\"color\": \"rgb(254,250,240)\", \"opacity\": 1},\n",
    "    \"frets\": {\"color\": \"rgb(152,150,145)\", \"width\": 4},\n",
    "    \"fret_numbers\": {\"color\": \"rgb(150,150,150)\", \"fontsize\": 20, \"fontweight\": \"bold\"},\n",
    "    \"strings\": {\"width\": 0},\n",
    "}\n",
    "\n",
    "fretboard_config = FretBoardConfig.from_dict(config)\n",
    "\n",
    "fretboard = FretBoard(config=fretboard_config)\n",
    "\n",
    "(ulx, uly), (lrx, lry) = fretboard.get_inside_bounds()\n",
    "n_frets = fretboard_config.general.last_fret - fretboard_config.general.first_fret + 1\n",
    "n_strings = 6\n",
    "fret_x = (lrx - ulx) // n_frets\n",
    "fret_y = (lry - uly) // (n_strings - 1)\n",
    "\n",
    "string_width = 3\n",
    "string_padding = fret_y // 3\n",
    "top_string_y = uly + string_padding\n",
    "bottom_string_y = lry - string_padding\n",
    "string_y = (bottom_string_y - top_string_y) / (n_strings - 1)\n",
    "for string_num in range(n_strings):\n",
    "    y = top_string_y + string_y * string_num\n",
    "    string = String(\n",
    "        start_position=(ulx + fret_x, y),\n",
    "        end_position=(lrx, y),\n",
    "        config=StringConfig(color=\"rgb(209,183,156)\", width=string_width)\n",
    "    )\n",
    "    fretboard.add_element(string)\n",
    "\n",
    "\n",
    "nut_width = fret_x * 2/3\n",
    "nut_x = ulx + fret_x - nut_width // 2\n",
    "nut = Nut(\n",
    "    start_position=(nut_x, uly - 1),\n",
    "    end_position=(nut_x, lry + 1),\n",
    "    config=NutConfig(color=\"rgb(170,170,170)\", width=nut_width)\n",
    ")\n",
    "fretboard.add_element(nut)\n",
    "\n",
    "\n",
    "x = 0\n",
    "y = 5\n",
    "pos_x = ulx + (x + 1/2) * fret_x if x > 0 else nut_x\n",
    "pos_y = top_string_y + y * string_y\n",
    "fretboard.add_element(FrettedNote(name=\"\", position=(pos_x, pos_y), config=FrettedNoteConfig(\n",
    "    color=\"rgb(183,64,50)\",\n",
    "    radius=12,\n",
    "    stroke_width=1,\n",
    ")))\n",
    "\n",
    "\n",
    "# In getting this to look exactly how I wanted, I had to make a couple changes to the fretboardgtr library:\n",
    "# TODO: Clean these changes up and fork the library. Consider submitting a PR.\n",
    "# 1. Add `stroke` and `stroke_width` to the svgwrite.shapes.Rect constructor in fretboardgtr/elements/background.py\n",
    "#    to get a border around the fretboard.\n",
    "# 2. Nudge the double inlay dots inward in fretboardgtr/fretboards/fretboard.py to account for string padding.\n",
    "\n",
    "draw(fretboard)"
   ]
  },
  {
   "cell_type": "code",
   "execution_count": null,
   "metadata": {},
   "outputs": [],
   "source": []
  }
 ],
 "metadata": {
  "kernelspec": {
   "display_name": "anki",
   "language": "python",
   "name": "python3"
  },
  "language_info": {
   "codemirror_mode": {
    "name": "ipython",
    "version": 3
   },
   "file_extension": ".py",
   "mimetype": "text/x-python",
   "name": "python",
   "nbconvert_exporter": "python",
   "pygments_lexer": "ipython3",
   "version": "3.9.16"
  },
  "orig_nbformat": 4
 },
 "nbformat": 4,
 "nbformat_minor": 2
}
