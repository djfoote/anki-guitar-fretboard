{
 "cells": [
  {
   "cell_type": "code",
   "execution_count": 1,
   "metadata": {},
   "outputs": [],
   "source": [
    "%reload_ext autoreload\n",
    "%autoreload 2"
   ]
  },
  {
   "cell_type": "code",
   "execution_count": 2,
   "metadata": {},
   "outputs": [],
   "source": [
    "from fretboardgtr.elements.notes import FrettedNote, FrettedNoteConfig\n",
    "from fretboardgtr.elements.nut import Nut, NutConfig\n",
    "from fretboardgtr.elements.strings import String, StringConfig\n",
    "from fretboardgtr.exporters import PNGExporter, register_exporter\n",
    "from fretboardgtr.fretboard import FretBoard, FretBoardConfig\n",
    "\n",
    "from IPython.display import Image, display"
   ]
  },
  {
   "cell_type": "code",
   "execution_count": 3,
   "metadata": {},
   "outputs": [],
   "source": [
    "class IPythonExporter(PNGExporter):\n",
    "    def export(self, to):\n",
    "        super().export(to)\n",
    "        display(Image(filename=to))\n",
    "\n",
    "\n",
    "register_exporter(IPythonExporter, \"DRAW\")\n",
    "def draw(fretboard, tmp_filepath=\"/tmp/fretboard.png\"):\n",
    "    fretboard.export(format=\"draw\", to=tmp_filepath)"
   ]
  },
  {
   "cell_type": "code",
   "execution_count": 9,
   "metadata": {},
   "outputs": [
    {
     "data": {
      "image/png": "[encoded data removed]",
      "text/plain": [
       "<IPython.core.display.Image object>"
      ]
     },
     "metadata": {},
     "output_type": "display_data"
    }
   ],
   "source": [
    "config = {\n",
    "    \"general\": {\n",
    "        \"first_fret\": 0,\n",
    "        \"last_fret\": 12,\n",
    "        \"show_tuning\": False,\n",
    "        \"x_start\": 10,\n",
    "        \"show_frets\": False,\n",
    "        \"fret_width\": 80,\n",
    "        \"fret_height\": 40,\n",
    "        \"x_end_offset\": -30,\n",
    "        \"y_end_offset\": -50,\n",
    "    },\n",
    "    \"neck_dots\": {\n",
    "        \"color\": \"rgb(229,227,222)\",\n",
    "        \"width_stroke\": 0,\n",
    "        \"radius\": 10,\n",
    "    },\n",
    "    \"nut\": {\"width\": 0},\n",
    "    \"background\": {\"color\": \"rgb(254,250,240)\", \"opacity\": 1},\n",
    "    \"frets\": {\"color\": \"rgb(152,150,145)\", \"width\": 4},\n",
    "    \"fret_numbers\": {\"color\": \"rgb(150,150,150)\", \"fontsize\": 20, \"fontweight\": \"bold\"},\n",
    "    \"strings\": {\"width\": 0},\n",
    "}\n",
    "\n",
    "fretboard_config = FretBoardConfig.from_dict(config)\n",
    "\n",
    "fretboard = FretBoard(config=fretboard_config)\n",
    "\n",
    "(ulx, uly), (lrx, lry) = fretboard.get_inside_bounds()\n",
    "n_frets = fretboard_config.general.last_fret - fretboard_config.general.first_fret + 1\n",
    "n_strings = 6\n",
    "fret_x = (lrx - ulx) // n_frets\n",
    "fret_y = (lry - uly) // (n_strings - 1)\n",
    "\n",
    "string_width = 3\n",
    "string_padding = fret_y // 3\n",
    "top_string_y = uly + string_padding\n",
    "bottom_string_y = lry - string_padding\n",
    "string_y = (bottom_string_y - top_string_y) / (n_strings - 1)\n",
    "for string_num in range(n_strings):\n",
    "    y = top_string_y + string_y * string_num\n",
    "    string = String(\n",
    "        start_position=(ulx + fret_x, y),\n",
    "        end_position=(lrx, y),\n",
    "        config=StringConfig(color=\"rgb(209,183,156)\", width=string_width)\n",
    "    )\n",
    "    fretboard.add_element(string)\n",
    "\n",
    "\n",
    "nut_width = fret_x * 1/2\n",
    "nut_x = ulx + fret_x - nut_width // 2\n",
    "nut = Nut(\n",
    "    start_position=(nut_x, uly - 1),\n",
    "    end_position=(nut_x, lry + 1),\n",
    "    config=NutConfig(color=\"rgb(170,170,170)\", width=nut_width)\n",
    ")\n",
    "fretboard.add_element(nut)\n",
    "\n",
    "\n",
    "x = 4\n",
    "y = 5\n",
    "pos_x = ulx + (x + 1/2) * fret_x if x > 0 else nut_x\n",
    "pos_y = top_string_y + y * string_y\n",
    "fretboard.add_element(FrettedNote(name=\"\", position=(pos_x, pos_y), config=FrettedNoteConfig(\n",
    "    color=\"rgb(183,64,50)\",\n",
    "    radius=12,\n",
    "    stroke_width=1,\n",
    ")))\n",
    "\n",
    "\n",
    "# In getting this to look exactly how I wanted, I had to make a couple changes to the fretboardgtr library:\n",
    "# TODO: Clean these changes up and fork the library. Consider submitting a PR.\n",
    "# 1. Add `stroke` and `stroke_width` to the svgwrite.shapes.Rect constructor in fretboardgtr/elements/background.py\n",
    "#    to get a border around the fretboard.\n",
    "# 2. Nudge the double inlay dots inward in fretboardgtr/fretboards/fretboard.py to account for string padding.\n",
    "\n",
    "draw(fretboard)"
   ]
  }
 ],
 "metadata": {
  "kernelspec": {
   "display_name": "anki",
   "language": "python",
   "name": "python3"
  },
  "language_info": {
   "codemirror_mode": {
    "name": "ipython",
    "version": 3
   },
   "file_extension": ".py",
   "mimetype": "text/x-python",
   "name": "python",
   "nbconvert_exporter": "python",
   "pygments_lexer": "ipython3",
   "version": "3.9.16"
  },
  "orig_nbformat": 4
 },
 "nbformat": 4,
 "nbformat_minor": 2
}
